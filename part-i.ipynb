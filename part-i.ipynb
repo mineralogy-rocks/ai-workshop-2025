{
 "cells": [
  {
   "metadata": {},
   "cell_type": "markdown",
   "source": [
    "## AI for Geosciences\n",
    "\n",
    "\n",
    "### Workshop for PhDs\n",
    "2025-06-19"
   ],
   "id": "a895e7b427338545"
  },
  {
   "metadata": {},
   "cell_type": "markdown",
   "source": [
    "## Why you should care? 🤓\n",
    "AI is a once-in-a-generation technology, or a [General Purpose Technology](https://en.wikipedia.org/wiki/General-purpose_technology) (ironically, GPT).\n",
    "\n",
    "## Why Was AI Developed? 🤔\n",
    "\n",
    "- automate tasks\n",
    "- solve complex problems\n",
    "- extend our capabilities\n",
    "\n",
    "## When Did It All Start? 🕰️\n",
    "\n",
    "- 1940s-1950s: The Dawn of AI 🌅\n",
    "    - *\"Turing Test\"* (1950) by Alan Turing.\n",
    "    Recent AI systems easily pass the test. However, their \"passing\" is [still debated](https://roboticsandautomationnews.com/2024/12/18/the-turing-test-origins-significance-and-controversies/87764/).\n",
    "- *The Dartmouth Workshop* (1956). The term \"Artificial Intelligence\" is officially coined and is widely considered the birth of AI as a distinct academic discipline.\n",
    "\n",
    "## Key Stages of Development and Technical Details 🚀\n",
    "\n",
    "- Early Enthusiasm & *\"Good Old-Fashioned AI\"* (GOFAI) - 1950s-1980s 💡\n",
    "Symbolic AI, where intelligence was represented using symbols and rules, much like a decision tree. This is called \"hard-coding\".\n",
    "- AI Winters - 1970s & 1980s ❄️\n",
    "Periods of reduced funding and interest due to unmet expectations and the limitations of GOFAI.\n",
    "- The Rise of Machine Learning - 1990s-Early 2010s 🌱\n",
    "Switch from hard-coding approach to machines learning from data.\n",
    "These include:\n",
    "    - Decision Trees\n",
    "    - Support Vector Machines\n",
    "    - Neural Networks\n",
    "\n",
    "- The Deep Learning Revolution & Current State - 2010s-Today 🌟\n",
    "Huge advancements in computational power (GPUs), vast amounts of data (\"Big Data\"), and new algorithms.\n",
    "    Key techniques:\n",
    "    - Convolutional Neural Networks\n",
    "    - Recurrent Neural Networks / Transformers\n",
    "\n",
    "    Impact:\n",
    "    - Natural Language processing (NLP)\n",
    "    - Image Recognition\n",
    "    - Speach Recognition\n",
    "    - Driving Vehicles\n",
    "\n",
    "\n"
   ],
   "id": "71568766845fb81a"
  },
  {
   "metadata": {},
   "cell_type": "markdown",
   "source": [
    "## How AI got here?\n",
    "\n"
   ],
   "id": "298d1c80d900c3cc"
  },
  {
   "metadata": {},
   "cell_type": "markdown",
   "source": "",
   "id": "55cae99e48ac53e"
  }
 ],
 "metadata": {
  "kernelspec": {
   "display_name": "Python 3",
   "language": "python",
   "name": "python3"
  },
  "language_info": {
   "codemirror_mode": {
    "name": "ipython",
    "version": 2
   },
   "file_extension": ".py",
   "mimetype": "text/x-python",
   "name": "python",
   "nbconvert_exporter": "python",
   "pygments_lexer": "ipython2",
   "version": "2.7.6"
  }
 },
 "nbformat": 4,
 "nbformat_minor": 5
}
