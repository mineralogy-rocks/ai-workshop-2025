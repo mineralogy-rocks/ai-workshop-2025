{
 "cells": [
  {
   "cell_type": "markdown",
   "id": "a895e7b427338545",
   "metadata": {},
   "source": [
    "## AI for Geosciences\n",
    "\n",
    "\n",
    "### Workshop for PhDs\n",
    "2025-06-19"
   ]
  },
  {
   "cell_type": "markdown",
   "id": "71568766845fb81a",
   "metadata": {},
   "source": [
    "## Why you should care? 🤓\n",
    "AI is a once-in-a-generation technology, or a [General Purpose Technology](https://en.wikipedia.org/wiki/General-purpose_technology) (ironically, GPT).\n",
    "\n",
    "## Why Was AI Developed? 🤔\n",
    "\n",
    "- automate tasks\n",
    "- solve complex problems\n",
    "- extend our capabilities\n",
    "\n",
    "## When Did It All Start? 🕰️\n",
    "\n",
    "- 1940s-1950s: The Dawn of AI 🌅\n",
    "    - *\"Turing Test\"* (1950) by Alan Turing.\n",
    "    Recent AI systems easily pass the test. However, their \"passing\" is [still debated](https://roboticsandautomationnews.com/2024/12/18/the-turing-test-origins-significance-and-controversies/87764/).\n",
    "- *The Dartmouth Workshop* (1956). The term \"Artificial Intelligence\" is officially coined and is widely considered the birth of AI as a distinct academic discipline.\n",
    "\n",
    "## Key Stages of Development and Technical Details 🚀\n",
    "\n",
    "- Early Enthusiasm & *\"Good Old-Fashioned AI\"* (GOFAI) - 1950s-1980s 💡\n",
    "Symbolic AI, where intelligence was represented using symbols and rules, much like a decision tree. This is called \"hard-coding\".\n",
    "- AI Winters - 1970s & 1980s ❄️\n",
    "Periods of reduced funding and interest due to unmet expectations and the limitations of GOFAI.\n",
    "- The Rise of Machine Learning - 1990s-Early 2010s 🌱\n",
    "Switch from hard-coding approach to machines learning from data.\n",
    "These include:\n",
    "    - Decision Trees\n",
    "    - Support Vector Machines\n",
    "    - Neural Networks\n",
    "\n",
    "- The Deep Learning Revolution & Current State - 2010s-Today 🌟\n",
    "Huge advancements in computational power (GPUs), vast amounts of data (\"Big Data\"), and new algorithms.\n",
    "    Key techniques:\n",
    "    - Convolutional Neural Networks\n",
    "    - Recurrent Neural Networks / Transformers\n",
    "\n",
    "    Impact:\n",
    "    - Natural Language processing (NLP)\n",
    "    - Image Recognition\n",
    "    - Speach Recognition\n",
    "    - Driving Vehicles\n",
    "\n",
    "\n"
   ]
  },
  {
   "cell_type": "markdown",
   "id": "298d1c80d900c3cc",
   "metadata": {},
   "source": [
    "## How AI got here?\n",
    "\n",
    "How these intelligent systems actually operate?\n",
    "\n",
    "### Core Concepts of ML\n",
    "\n",
    "1. **Learning**. Using structured (table) or unstructured (text, image, audio) data to train a model."
   ]
  },
  {
   "cell_type": "code",
   "id": "a771cf74aa3b201d",
   "metadata": {
    "jupyter": {
     "is_executing": true
    }
   },
   "source": [
    "# an example of structured table for ML learning\n",
    "\n",
    "import pandas as pd\n",
    "import numpy as np"
   ],
   "outputs": [],
   "execution_count": null
  },
  {
   "cell_type": "code",
   "execution_count": null,
   "id": "721266ffcccb36bd",
   "metadata": {},
   "outputs": [],
   "source": [
    "# an example of unstructured text for ML learning"
   ]
  }
 ],
 "metadata": {
  "kernelspec": {
   "display_name": "Python 3 (ipykernel)",
   "language": "python",
   "name": "python3"
  },
  "language_info": {
   "codemirror_mode": {
    "name": "ipython",
    "version": 3
   },
   "file_extension": ".py",
   "mimetype": "text/x-python",
   "name": "python",
   "nbconvert_exporter": "python",
   "pygments_lexer": "ipython3",
   "version": "3.13.1"
  }
 },
 "nbformat": 4,
 "nbformat_minor": 5
}
